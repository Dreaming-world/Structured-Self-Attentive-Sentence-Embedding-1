{
 "cells": [
  {
   "cell_type": "code",
   "execution_count": 3,
   "metadata": {
    "collapsed": true
   },
   "outputs": [],
   "source": [
    "%load_ext autoreload\n",
    "%autoreload 2"
   ]
  },
  {
   "cell_type": "code",
   "execution_count": 64,
   "metadata": {},
   "outputs": [],
   "source": [
    "import torch\n",
    "import torch.nn as nn\n",
    "import torch.nn.functional as F\n",
    "\n",
    "from models import WordEmbedding\n",
    "from utils import to_var, make_word_vector"
   ]
  },
  {
   "cell_type": "code",
   "execution_count": 65,
   "metadata": {},
   "outputs": [
    {
     "name": "stdout",
     "output_type": "stream",
     "text": [
      "vocab_size 2291\n"
     ]
    }
   ],
   "source": []
  },
  {
   "cell_type": "code",
   "execution_count": 72,
   "metadata": {},
   "outputs": [],
   "source": []
  },
  {
   "cell_type": "code",
   "execution_count": 76,
   "metadata": {},
   "outputs": [
    {
     "name": "stdout",
     "output_type": "stream",
     "text": [
      "---Epoch 0\n",
      "1.5056692361831665\n",
      "---Epoch 1\n",
      "2.2546281814575195\n",
      "---Epoch 2\n",
      "30.548856735229492\n",
      "---Epoch 3\n",
      "4.2968878746032715\n"
     ]
    }
   ],
   "source": [
    "model = SelfAttentiveNet(len(vocab))\n",
    "loss_fn = loss_fn = nn.NLLLoss()\n",
    "optimizer = torch.optim.Adagrad(filter(lambda p: p.requires_grad, model.parameters()), lr=0.01)\n",
    "batch_size = 16\n",
    "n_epoch = 4\n",
    "for epoch in range(n_epoch):\n",
    "    print('---Epoch {}'.format(epoch))\n",
    "    random.shuffle(data)\n",
    "    for i in range(0, len(data)-batch_size, batch_size): # TODO use last elms\n",
    "        batch = data[i:i+batch_size]\n",
    "        x = [d[0] for d in batch]\n",
    "        sent_len = max([len(xx) for xx in x])\n",
    "        x = make_word_vector(x, w2i, sent_len) # (bs, n)\n",
    "        labels = to_var(torch.LongTensor([d[1] for d in batch])) # (bs,)\n",
    "\n",
    "        preds = model(x) # (bs, n_classes)\n",
    "        loss = loss_fn(preds, labels)\n",
    "        print(loss.data[0])\n",
    "        model.zero_grad()\n",
    "        loss.backward()\n",
    "        optimizer.step()\n",
    "        break"
   ]
  },
  {
   "cell_type": "code",
   "execution_count": null,
   "metadata": {
    "collapsed": true
   },
   "outputs": [],
   "source": []
  }
 ],
 "metadata": {
  "kernelspec": {
   "display_name": "Python 3",
   "language": "python",
   "name": "python3"
  },
  "language_info": {
   "codemirror_mode": {
    "name": "ipython",
    "version": 3
   },
   "file_extension": ".py",
   "mimetype": "text/x-python",
   "name": "python",
   "nbconvert_exporter": "python",
   "pygments_lexer": "ipython3",
   "version": "3.6.1"
  }
 },
 "nbformat": 4,
 "nbformat_minor": 2
}
